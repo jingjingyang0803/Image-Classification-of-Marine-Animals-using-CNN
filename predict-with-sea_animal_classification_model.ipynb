{
 "cells": [
  {
   "cell_type": "code",
   "execution_count": 3,
   "id": "bb26919f",
   "metadata": {},
   "outputs": [
    {
     "name": "stdout",
     "output_type": "stream",
     "text": [
      "images_to_predict/eel_1.jpg\n",
      "images_to_predict/.DS_Store\n"
     ]
    }
   ],
   "source": [
    "import os\n",
    "import numpy as np\n",
    "import tensorflow as tf\n",
    "from tensorflow.keras.preprocessing import image\n",
    "\n",
    "# Load the trained model\n",
    "model_path = 'sea_animal_classification_model.h5'\n",
    "model = tf.keras.models.load_model(model_path)\n",
    "\n",
    "# Directory containing new images to predict\n",
    "predict_dir = 'images_to_predict'\n",
    "\n",
    "# Class labels (same order as training labels)\n",
    "class_labels = ['Dolphin', 'Eel', 'Penguin', 'Seal', 'Sharks']\n",
    "\n",
    "def predict_image(img_path):\n",
    "    print(f\"Predicting image: {img_path}\")\n",
    "    img = image.load_img(img_path, target_size=(300, 300))  # Resize the image to match model's expected input\n",
    "    img_array = image.img_to_array(img)  # Convert the image into array\n",
    "    img_array = np.expand_dims(img_array, axis=0)  # Add batch dimension\n",
    "    img_array /= 255.0  # Normalize the image\n",
    "\n",
    "    prediction = model.predict(img_array)\n",
    "    predicted_class_index = np.argmax(prediction)\n",
    "    predicted_class = class_labels[predicted_class_index]\n",
    "    confidence = np.max(tf.nn.softmax(prediction[0])) * 100  # Apply softmax and convert to percentage\n",
    "\n",
    "    return predicted_class, confidence\n",
    "\n",
    "# Function to check if a file is an image\n",
    "def is_image_file(filename):\n",
    "    return filename.lower().endswith(('.png', '.jpg', '.jpeg', '.bmp', '.gif', '.tiff'))\n",
    "\n",
    "# Predict each image in the directory\n",
    "for img_file in os.listdir(predict_dir):\n",
    "    if is_image_file(img_file):\n",
    "        img_path = os.path.join(predict_dir, img_file)\n",
    "        predicted_class, confidence = predict_image(img_path)\n",
    "        print(f\"Image: {img_file}, Predicted Class: {predicted_class}, Confidence: {confidence:.2f}%\")\n",
    "    else:\n",
    "        print(f\"Skipping non-image file: {img_file}\")\n"
   ]
  },
  {
   "cell_type": "code",
   "execution_count": null,
   "id": "88133082",
   "metadata": {},
   "outputs": [],
   "source": []
  }
 ],
 "metadata": {
  "kernelspec": {
   "display_name": "Python 3 (ipykernel)",
   "language": "python",
   "name": "python3"
  },
  "language_info": {
   "codemirror_mode": {
    "name": "ipython",
    "version": 3
   },
   "file_extension": ".py",
   "mimetype": "text/x-python",
   "name": "python",
   "nbconvert_exporter": "python",
   "pygments_lexer": "ipython3",
   "version": "3.10.12"
  }
 },
 "nbformat": 4,
 "nbformat_minor": 5
}
